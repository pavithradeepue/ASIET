{
 "cells": [
  {
   "cell_type": "code",
   "execution_count": 1,
   "id": "abf451bb-5691-46bf-86c2-d3eb84f34151",
   "metadata": {},
   "outputs": [],
   "source": [
    "import pytholog as pl"
   ]
  },
  {
   "cell_type": "code",
   "execution_count": 2,
   "id": "6007d442-5b01-4216-b7a7-8e1ff25fd087",
   "metadata": {},
   "outputs": [],
   "source": [
    "new_kb = pl.KnowledgeBase(\"flavor\")\n",
    "new_kb([\"likes(noor,sausage)\",\n",
    "        \"likes(melissa,pasta)\",\n",
    "        \"likes(dmitry, cookie)\",\n",
    "        \"likes(nikita, sausage)\",\n",
    "        \"likes(assel, limonade)\",\n",
    "        \"food_type(gouda, cheese)\",\n",
    "        \"food_type(ritz, cracker)\",\n",
    "        \"food_type(steak, meat)\",\n",
    "        \"food_type(sausage, meat)\",\n",
    "        \"food_type(lemonade, juice)\",\n",
    "        \"food_type(mojito, juice)\",\n",
    "        \"food_type(cookie, dessert)\",\n",
    "        \"flavor(sweet, dessert)\",\n",
    "        \"flavor(savory, meat)\",\n",
    "        \"flavor(savory, cheese)\",\n",
    "        \"flavor(sweet, juice)\",\n",
    "        \"food_flavor(X, Y) :- food_type(X, Z), flavor(Y, Z)\",\n",
    "        \"dish_to_like(X, Y) :- likes(X, L), food_type(L, T), flavor(F, T), food_flavor(Y, F), neq(L, Y)\"])"
   ]
  },
  {
   "cell_type": "code",
   "execution_count": 3,
   "id": "36f9f790-3edf-49c5-b052-53c90967f05a",
   "metadata": {},
   "outputs": [
    {
     "data": {
      "text/plain": [
       "['Yes']"
      ]
     },
     "execution_count": 3,
     "metadata": {},
     "output_type": "execute_result"
    }
   ],
   "source": [
    "new_kb.query(pl.Expr(\"likes(noor, sausage)\"))"
   ]
  },
  {
   "cell_type": "code",
   "execution_count": 4,
   "id": "dd1ecb08-2b2a-4c14-80ec-d406f1d13f42",
   "metadata": {},
   "outputs": [
    {
     "data": {
      "text/plain": [
       "['No']"
      ]
     },
     "execution_count": 4,
     "metadata": {},
     "output_type": "execute_result"
    }
   ],
   "source": [
    "new_kb.query(pl.Expr(\"likes(noor, pasta)\"))"
   ]
  },
  {
   "cell_type": "code",
   "execution_count": 5,
   "id": "ff807cfe-bd26-4180-9050-3c140783b433",
   "metadata": {},
   "outputs": [
    {
     "name": "stdout",
     "output_type": "stream",
     "text": [
      "[{'What': 'cookie'}, {'What': 'lemonade'}, {'What': 'mojito'}]\n",
      "0.00026488304138183594\n"
     ]
    }
   ],
   "source": [
    "from time import time\n",
    "start = time()\n",
    "print(new_kb.query(pl.Expr(\"food_flavor(What, sweet)\")))\n",
    "print(time() - start)"
   ]
  },
  {
   "cell_type": "code",
   "execution_count": 6,
   "id": "61421858-d3b0-4f89-9fea-8ebaeaa07f01",
   "metadata": {},
   "outputs": [
    {
     "name": "stdout",
     "output_type": "stream",
     "text": [
      "[{'What': 'gouda'}, {'What': 'steak'}]\n",
      "0.0003535747528076172\n"
     ]
    }
   ],
   "source": [
    "start = time()\n",
    "print(new_kb.query(pl.Expr(\"dish_to_like(noor, What)\")))\n",
    "print(time() - start)"
   ]
  }
 ],
 "metadata": {
  "kernelspec": {
   "display_name": "Python 3 (ipykernel)",
   "language": "python",
   "name": "python3"
  },
  "language_info": {
   "codemirror_mode": {
    "name": "ipython",
    "version": 3
   },
   "file_extension": ".py",
   "mimetype": "text/x-python",
   "name": "python",
   "nbconvert_exporter": "python",
   "pygments_lexer": "ipython3",
   "version": "3.10.12"
  }
 },
 "nbformat": 4,
 "nbformat_minor": 5
}
