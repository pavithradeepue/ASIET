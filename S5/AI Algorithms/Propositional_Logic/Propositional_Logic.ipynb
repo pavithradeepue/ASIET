{
 "cells": [
  {
   "cell_type": "code",
   "execution_count": 1,
   "id": "5b4694f1-13e2-48d1-a636-96b6ee11ef54",
   "metadata": {},
   "outputs": [],
   "source": [
    "import pytholog as pl\n",
    "from sympy import *\n",
    "from sympy.logic.inference import satisfiable"
   ]
  },
  {
   "cell_type": "code",
   "execution_count": 2,
   "id": "0f142bd5-f45b-498b-acef-859830fefb1d",
   "metadata": {},
   "outputs": [
    {
     "name": "stdout",
     "output_type": "stream",
     "text": [
      "hagrid & rain\n",
      "False\n"
     ]
    }
   ],
   "source": [
    "rain = Symbol(\"rain\")\n",
    "hagrid = Symbol(\"hagrid\")\n",
    "dumbledore = Symbol(\"dumbledore\")\n",
    "logical_sentence = And(rain,hagrid)\n",
    "print(logical_sentence)\n",
    "print(logical_sentence.subs({rain:True,hagrid:False}))"
   ]
  },
  {
   "cell_type": "code",
   "execution_count": 3,
   "id": "4024f90a-79f2-428d-81eb-3dc04826878d",
   "metadata": {},
   "outputs": [
    {
     "name": "stdout",
     "output_type": "stream",
     "text": [
      "Implies(~rain, hagrid)\n",
      "{hagrid: True, rain: True}\n"
     ]
    }
   ],
   "source": [
    "implication_logic = Implies(Not(rain),hagrid)\n",
    "print(implication_logic)\n",
    "print(satisfiable(implication_logic))\n"
   ]
  },
  {
   "cell_type": "code",
   "execution_count": 4,
   "id": "1565ae10-9943-416e-af72-afc98677d0c5",
   "metadata": {},
   "outputs": [
    {
     "name": "stdout",
     "output_type": "stream",
     "text": [
      "hagrid & (dumbledore | hagrid) & (Implies(~rain, hagrid)) & ~(dumbledore & hagrid)\n",
      "{hagrid: True, rain: True, dumbledore: False}\n",
      "{hagrid: True, rain: False, dumbledore: False}\n"
     ]
    }
   ],
   "source": [
    "knowledge_base = And(Implies(Not(rain),hagrid), Or(hagrid,dumbledore),Not(And(hagrid,dumbledore)),hagrid)\n",
    "print(knowledge_base)\n",
    "models = satisfiable(knowledge_base,all_models = True)\n",
    "for model in models:\n",
    "    print(model)"
   ]
  },
  {
   "cell_type": "code",
   "execution_count": 11,
   "id": "fed1701a-5294-4f66-9756-25876d61b3f0",
   "metadata": {},
   "outputs": [],
   "source": [
    "from sympy.logic.inference import valid"
   ]
  },
  {
   "cell_type": "code",
   "execution_count": 12,
   "id": "c1d7a099-6e62-4809-92e5-e57201223478",
   "metadata": {},
   "outputs": [
    {
     "name": "stdout",
     "output_type": "stream",
     "text": [
      "False\n"
     ]
    }
   ],
   "source": [
    "\n",
    "p = Symbol(\"rainy\")\n",
    "q = Symbol(\"happy\")\n",
    "r = Symbol(\"play football\")\n",
    "\n",
    "p1 = Implies(And(Not(p),q),r)\n",
    "print(valid(p))"
   ]
  },
  {
   "cell_type": "code",
   "execution_count": 14,
   "id": "05dad704-b186-4465-9767-99bf668ed5a5",
   "metadata": {},
   "outputs": [
    {
     "name": "stdout",
     "output_type": "stream",
     "text": [
      "True\n"
     ]
    }
   ],
   "source": [
    "from sympy.logic.inference import valid\n",
    "\n",
    "p = Symbol(\"rain_afternoon\")\n",
    "q = Symbol(\"colder_than_yesterday\")\n",
    "r = Symbol(\"go_swimming\")\n",
    "s = Symbol(\"take a canoe trip\")\n",
    "t = Symbol(\"at_home_by_sunset\")\n",
    "\n",
    "p1 = And(Not(p),q)\n",
    "p2 = Implies(r,p)\n",
    "p3 = Implies(Not(r),s)\n",
    "p4 = Implies(s,t)\n",
    "\n",
    "result = valid(Implies(And(p1,p2,p3,p4),t))\n",
    "print(result)"
   ]
  }
 ],
 "metadata": {
  "kernelspec": {
   "display_name": "Python 3 (ipykernel)",
   "language": "python",
   "name": "python3"
  },
  "language_info": {
   "codemirror_mode": {
    "name": "ipython",
    "version": 3
   },
   "file_extension": ".py",
   "mimetype": "text/x-python",
   "name": "python",
   "nbconvert_exporter": "python",
   "pygments_lexer": "ipython3",
   "version": "3.10.12"
  }
 },
 "nbformat": 4,
 "nbformat_minor": 5
}
