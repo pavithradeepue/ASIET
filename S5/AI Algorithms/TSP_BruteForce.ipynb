{
 "cells": [
  {
   "cell_type": "code",
   "execution_count": 1,
   "id": "add150b6-07f5-4e3e-98eb-7e8666c440bb",
   "metadata": {},
   "outputs": [],
   "source": [
    "from itertools import permutations"
   ]
  },
  {
   "cell_type": "code",
   "execution_count": 2,
   "id": "b00f5d8a-7c88-45ec-a5fc-621f0b705682",
   "metadata": {},
   "outputs": [],
   "source": [
    "# Distance matrix\n",
    "dist = {\n",
    "    ('A','B'): 10, ('A','C'): 15, ('A','D'): 20,\n",
    "    ('B','A'): 10, ('B','C'): 35, ('B','D'): 25,\n",
    "    ('C','A'): 15, ('C','B'): 35, ('C','D'): 30,\n",
    "    ('D','A'): 20, ('D','B'): 25, ('D','C'): 30\n",
    "}"
   ]
  },
  {
   "cell_type": "code",
   "execution_count": 3,
   "id": "3280f9e1-8664-4401-85ab-23002b35e17b",
   "metadata": {},
   "outputs": [
    {
     "name": "stdout",
     "output_type": "stream",
     "text": [
      "Best Path: ['A', 'B', 'D', 'C', 'A']\n",
      "Minimum Cost: 80\n"
     ]
    }
   ],
   "source": [
    "cities = ['A','B','C','D']\n",
    "start = 'A'\n",
    "min_cost = float('inf')\n",
    "best_path = []\n",
    "\n",
    "for perm in permutations([c for c in cities if c != start]):\n",
    "    path = [start] + list(perm) + [start]\n",
    "    cost = sum(dist[(path[i], path[i+1])] for i in range(len(path)-1))\n",
    "    if cost < min_cost:\n",
    "        min_cost = cost\n",
    "        best_path = path\n",
    "\n",
    "print(\"Best Path:\", best_path)\n",
    "print(\"Minimum Cost:\", min_cost)"
   ]
  }
 ],
 "metadata": {
  "kernelspec": {
   "display_name": "Python 3 (ipykernel)",
   "language": "python",
   "name": "python3"
  },
  "language_info": {
   "codemirror_mode": {
    "name": "ipython",
    "version": 3
   },
   "file_extension": ".py",
   "mimetype": "text/x-python",
   "name": "python",
   "nbconvert_exporter": "python",
   "pygments_lexer": "ipython3",
   "version": "3.10.12"
  }
 },
 "nbformat": 4,
 "nbformat_minor": 5
}
