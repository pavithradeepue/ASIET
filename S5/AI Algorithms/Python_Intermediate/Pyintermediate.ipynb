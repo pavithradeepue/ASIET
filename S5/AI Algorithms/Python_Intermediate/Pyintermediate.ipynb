{
 "cells": [
  {
   "cell_type": "code",
   "execution_count": 1,
   "id": "c990b6c9-d350-417a-9881-b3e2250b2aff",
   "metadata": {},
   "outputs": [
    {
     "name": "stdout",
     "output_type": "stream",
     "text": [
      "1\n",
      "2\n",
      "3\n",
      "4\n",
      "5\n",
      "6\n",
      "7\n",
      "8\n",
      "9\n",
      "10\n"
     ]
    }
   ],
   "source": [
    "n = 1\n",
    "while(n<=10):\n",
    "    print(n)\n",
    "    n=n+1"
   ]
  },
  {
   "cell_type": "code",
   "execution_count": 2,
   "id": "b96cfbd5-c13a-4049-8682-2b7c08f855eb",
   "metadata": {},
   "outputs": [
    {
     "name": "stdin",
     "output_type": "stream",
     "text": [
      "Enter a number:  2\n"
     ]
    },
    {
     "name": "stdout",
     "output_type": "stream",
     "text": [
      "1  X  2 =  2\n",
      "2  X  2 =  4\n",
      "3  X  2 =  6\n",
      "4  X  2 =  8\n",
      "5  X  2 =  10\n",
      "6  X  2 =  12\n",
      "7  X  2 =  14\n",
      "8  X  2 =  16\n",
      "9  X  2 =  18\n",
      "10  X  2 =  20\n"
     ]
    }
   ],
   "source": [
    "n=int(input(\"Enter a number: \"))\n",
    "for i in range(1,11):\n",
    "    print(i, \" X \", n, \"= \", n*i) \n",
    "    "
   ]
  },
  {
   "cell_type": "code",
   "execution_count": 7,
   "id": "d027aa85-25c3-4b3b-b9d8-0970e9b05a40",
   "metadata": {},
   "outputs": [
    {
     "name": "stdout",
     "output_type": "stream",
     "text": [
      "\n",
      "*\n",
      "**\n",
      "***\n",
      "****\n",
      "*****\n"
     ]
    }
   ],
   "source": [
    "for i in range(6):\n",
    "    for j in range (i):\n",
    "        print(\"*\",end=\"\")\n",
    "    print()"
   ]
  },
  {
   "cell_type": "code",
   "execution_count": 11,
   "id": "c0301fb2-1682-406b-b6f3-c28ef142040d",
   "metadata": {},
   "outputs": [
    {
     "name": "stdout",
     "output_type": "stream",
     "text": [
      "apple\n",
      "orange\n",
      "watermelon\n",
      "banana\n",
      "grapes\n"
     ]
    }
   ],
   "source": [
    "fruits=['apple','orange','watermelon','banana','grapes']\n",
    "for i in (fruits):\n",
    "    print(i)"
   ]
  },
  {
   "cell_type": "code",
   "execution_count": 18,
   "id": "6d73a8aa-dbb0-4798-87b8-618d60e6ff02",
   "metadata": {},
   "outputs": [
    {
     "name": "stdout",
     "output_type": "stream",
     "text": [
      "Name : Marks\n",
      "Pavithra : 90\n",
      "Nima : 95\n",
      "Roshan : 99\n"
     ]
    }
   ],
   "source": [
    "d={\"Pavithra\":90,\"Nima\":95,\"Roshan\":99}\n",
    "print(\"Name : Marks\")\n",
    "for i in (d):\n",
    "    print(i, \":\",d[i])"
   ]
  },
  {
   "cell_type": "code",
   "execution_count": 20,
   "id": "66a91691-dbd3-4ebc-b35f-0243d59e6f9e",
   "metadata": {},
   "outputs": [
    {
     "name": "stdout",
     "output_type": "stream",
     "text": [
      "30\n"
     ]
    }
   ],
   "source": [
    "t=(10,20,30,40,50)\n",
    "print(t[2])"
   ]
  },
  {
   "cell_type": "code",
   "execution_count": 21,
   "id": "db37be27-fe20-460c-b4a3-99471d58f830",
   "metadata": {},
   "outputs": [
    {
     "name": "stdout",
     "output_type": "stream",
     "text": [
      "{1, 2, 3, 4, 5, 6}\n"
     ]
    }
   ],
   "source": [
    "s={1,1,2,3,4,5,5,6}\n",
    "print(set(s))"
   ]
  },
  {
   "cell_type": "code",
   "execution_count": 33,
   "id": "54af4e6f-6703-40ad-8a13-a69ec7808043",
   "metadata": {},
   "outputs": [
    {
     "name": "stdout",
     "output_type": "stream",
     "text": [
      "PythonP\n",
      "amming\n",
      "yhnrgamn\n",
      "gnimmargorPnohtyP\n"
     ]
    }
   ],
   "source": [
    "s=\"PythonProgramming\"\n",
    "sub1=s[:7:]\n",
    "sub2=s[-6:]\n",
    "print(sub1)\n",
    "print(sub2)\n",
    "sub3=s[1::2]\n",
    "print(sub3)\n",
    "sub4=s[::-1]\n",
    "print(sub4)"
   ]
  },
  {
   "cell_type": "code",
   "execution_count": 38,
   "id": "2030d04f-69eb-4f8a-a340-4d482e82bb9e",
   "metadata": {},
   "outputs": [
    {
     "name": "stdout",
     "output_type": "stream",
     "text": [
      "[1, 4, 9, 16, 25, 36, 49, 64, 81, 100]\n"
     ]
    }
   ],
   "source": [
    "print([i*i for i in range(1,11)])"
   ]
  },
  {
   "cell_type": "code",
   "execution_count": 43,
   "id": "c6f1a50a-4c85-48ff-ae38-6468ee49671b",
   "metadata": {},
   "outputs": [
    {
     "name": "stdout",
     "output_type": "stream",
     "text": [
      "[2, 4, 6, 8, 10, 12, 14, 16, 18, 20, 22, 24, 26, 28, 30, 32, 34, 36, 38, 40, 42, 44, 46, 48, 50]\n"
     ]
    }
   ],
   "source": [
    "even=[num for num in range(1,51) if num%2==0]\n",
    "print(even)"
   ]
  },
  {
   "cell_type": "code",
   "execution_count": 48,
   "id": "1f6a4fe5-524f-4072-be27-af553fb44d71",
   "metadata": {},
   "outputs": [
    {
     "name": "stdout",
     "output_type": "stream",
     "text": [
      "['laptop', 'computer', 'watermelon']\n"
     ]
    }
   ],
   "source": [
    "l1=(\"black\",'pen',\"laptop\",\"car\",\"cat\",\"computer\",\"watermelon\")\n",
    "words =[word for word in l1 if len(word)>5]\n",
    "print(words)"
   ]
  },
  {
   "cell_type": "code",
   "execution_count": 72,
   "id": "0d0069b3-78da-45ce-bbe1-da51595084cb",
   "metadata": {},
   "outputs": [
    {
     "name": "stdin",
     "output_type": "stream",
     "text": [
      "Enter a number:  3\n"
     ]
    },
    {
     "name": "stdout",
     "output_type": "stream",
     "text": [
      "Number is prime\n"
     ]
    }
   ],
   "source": [
    "def is_prime(n):\n",
    "    if n<=1:\n",
    "        return False\n",
    "    for i in range(2,(n//2) +1):\n",
    "        if n%i == 0:\n",
    "            return False\n",
    "    return True\n",
    "    \n",
    "n=int(input(\"Enter a number: \"))\n",
    "b=is_prime(n)\n",
    "if (b==True):\n",
    "    print(\"Number is prime\")\n",
    "else:\n",
    "    print(\"Number is non prime\")\n"
   ]
  },
  {
   "cell_type": "code",
   "execution_count": 58,
   "id": "4ba54f8a-26f1-4946-bb2d-7724c8d7e383",
   "metadata": {},
   "outputs": [
    {
     "name": "stdin",
     "output_type": "stream",
     "text": [
      "Enter a number:  5\n"
     ]
    },
    {
     "name": "stdout",
     "output_type": "stream",
     "text": [
      "Factorial is:  120\n"
     ]
    }
   ],
   "source": [
    "def fact(x):\n",
    "    if x==1:\n",
    "        return 1\n",
    "    else:\n",
    "        return x*(fact(x-1))\n",
    "x=int(input(\"Enter a number: \"))\n",
    "s=fact(x)\n",
    "print(\"Factorial is: \",s)"
   ]
  },
  {
   "cell_type": "code",
   "execution_count": null,
   "id": "cf4b1991-2179-4afe-afe8-9ceed8a6143b",
   "metadata": {},
   "outputs": [],
   "source": [
    "def listinput():\n",
    "    l1 = list(map(int,input(\"Enter the first list: \").split()))"
   ]
  },
  {
   "cell_type": "code",
   "execution_count": 76,
   "id": "1d079f6a-83df-40e1-b7b2-a713bc5c9c45",
   "metadata": {},
   "outputs": [
    {
     "name": "stdout",
     "output_type": "stream",
     "text": [
      "Pavithra A\n",
      "Roshan B\n"
     ]
    }
   ],
   "source": [
    "class student:\n",
    "    def __init__(self,name,grade):\n",
    "        self.name = name\n",
    "        self.grade = grade\n",
    "    def get_name(self):\n",
    "        return self.name\n",
    "    def get_grade(self):\n",
    "        return self.grade\n",
    "    def set_name(self):\n",
    "        self.name = name\n",
    "    def set_grade(self):\n",
    "        self.grade=grade\n",
    "        \n",
    "S1=student('Pavithra','A')\n",
    "S2=student('Roshan','B')\n",
    "print(S1.name,S1.grade)\n",
    "print(S2.name,S2.grade)"
   ]
  },
  {
   "cell_type": "code",
   "execution_count": 77,
   "id": "a44d4cab-a1bf-46d7-8086-c49eed1cfe53",
   "metadata": {},
   "outputs": [
    {
     "name": "stdout",
     "output_type": "stream",
     "text": [
      "1 2\n"
     ]
    }
   ],
   "source": [
    "s3=student(1,2)\n",
    "print(s3.name,s3.grade)"
   ]
  },
  {
   "cell_type": "code",
   "execution_count": null,
   "id": "a3a3b525-fff9-431b-9f60-ed531021c772",
   "metadata": {},
   "outputs": [],
   "source": []
  }
 ],
 "metadata": {
  "kernelspec": {
   "display_name": "Python 3 (ipykernel)",
   "language": "python",
   "name": "python3"
  },
  "language_info": {
   "codemirror_mode": {
    "name": "ipython",
    "version": 3
   },
   "file_extension": ".py",
   "mimetype": "text/x-python",
   "name": "python",
   "nbconvert_exporter": "python",
   "pygments_lexer": "ipython3",
   "version": "3.10.12"
  }
 },
 "nbformat": 4,
 "nbformat_minor": 5
}
