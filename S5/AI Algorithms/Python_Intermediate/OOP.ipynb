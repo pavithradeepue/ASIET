{
 "cells": [
  {
   "cell_type": "code",
   "execution_count": 3,
   "id": "a0e5c03a-df71-4f7e-a346-9b593c95cb0d",
   "metadata": {},
   "outputs": [
    {
     "name": "stdout",
     "output_type": "stream",
     "text": [
      "A 1\n",
      "B 2\n"
     ]
    }
   ],
   "source": [
    "class student:\n",
    "    def __init__(self,name,grade):\n",
    "        self.name = name\n",
    "        self.grade = grade\n",
    "    def get_name(self):\n",
    "        return self.name\n",
    "    def get_grade(self):\n",
    "        return self.grade\n",
    "    def set_name(self):\n",
    "        self.name = name\n",
    "    def set_grade(self):\n",
    "        self.grade=grade\n",
    "        \n",
    "S1=student('A',1)\n",
    "S2=student('B',2)\n",
    "print(S1.name,S1.grade)\n",
    "print(S2.name,S2.grade)"
   ]
  },
  {
   "cell_type": "code",
   "execution_count": null,
   "id": "efa9438b-35f4-400d-9d75-2e2a78bb2e2a",
   "metadata": {},
   "outputs": [],
   "source": []
  }
 ],
 "metadata": {
  "kernelspec": {
   "display_name": "Python 3 (ipykernel)",
   "language": "python",
   "name": "python3"
  },
  "language_info": {
   "codemirror_mode": {
    "name": "ipython",
    "version": 3
   },
   "file_extension": ".py",
   "mimetype": "text/x-python",
   "name": "python",
   "nbconvert_exporter": "python",
   "pygments_lexer": "ipython3",
   "version": "3.10.12"
  }
 },
 "nbformat": 4,
 "nbformat_minor": 5
}
